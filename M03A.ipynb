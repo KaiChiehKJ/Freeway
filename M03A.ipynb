{
 "cells": [
  {
   "cell_type": "markdown",
   "metadata": {},
   "source": [
    "# M03A"
   ]
  },
  {
   "cell_type": "markdown",
   "metadata": {},
   "source": [
    "M03A資料可作為統計通過門架ID對應的**通過量**  \n",
    "可以分析路段的道路服務水準"
   ]
  },
  {
   "cell_type": "markdown",
   "metadata": {},
   "source": [
    "## Setup"
   ]
  },
  {
   "cell_type": "code",
   "execution_count": 1,
   "metadata": {},
   "outputs": [
    {
     "name": "stderr",
     "output_type": "stream",
     "text": [
      "/Users/zhangkaijie/Library/Python/3.9/lib/python/site-packages/urllib3/__init__.py:35: NotOpenSSLWarning: urllib3 v2 only supports OpenSSL 1.1.1+, currently the 'ssl' module is compiled with 'LibreSSL 2.8.3'. See: https://github.com/urllib3/urllib3/issues/3020\n",
      "  warnings.warn(\n"
     ]
    }
   ],
   "source": [
    "import os\n",
    "import requests\n",
    "import pandas as pd\n",
    "import numpy as np\n",
    "from datetime import datetime, timedelta\n",
    "import subprocess\n",
    "import shutil\n",
    "import tarfile"
   ]
  },
  {
   "cell_type": "code",
   "execution_count": 2,
   "metadata": {},
   "outputs": [],
   "source": [
    "def create_folder(folder_name):\n",
    "    \"\"\"建立資料夾\"\"\"\n",
    "    if not os.path.exists(folder_name):\n",
    "        os.makedirs(folder_name)\n",
    "    return os.path.abspath(folder_name)\n",
    "\n",
    "def delete_folders(deletelist):\n",
    "    \"\"\"\n",
    "    刪除資料夾\n",
    "    deletelist(list):需要為皆為路徑的list\n",
    "    \"\"\"\n",
    "    for folder_name in deletelist: \n",
    "        if os.path.exists(folder_name): # 檢查資料夾是否存在\n",
    "            shutil.rmtree(folder_name) # 刪除資料夾及其內容\n",
    "        else:\n",
    "            print(f\"資料夾 '{folder_name}' 不存在。\")\n",
    "\n",
    "def getdatelist(time1, time2):\n",
    "    '''\n",
    "    建立日期清單\n",
    "    time1、time2(str):為%Y-%M-%D格式的日期字串\n",
    "    '''\n",
    "    if time1 > time2:\n",
    "        starttime = time2\n",
    "        endtime = time1\n",
    "    else:\n",
    "        starttime = time1\n",
    "        endtime = time2\n",
    "\n",
    "    date_range = pd.date_range(start=starttime, end=endtime)\n",
    "    datelist = [d.strftime(\"%Y%m%d\") for d in date_range]\n",
    "    return datelist\n",
    "\n",
    "def delete_folders_permanently(deletelist):\n",
    "    \"\"\"\n",
    "    永久刪除資料夾及其內容，不放入資源回收筒\n",
    "    deletelist (list): 需要刪除的資料夾路徑列表\n",
    "    \"\"\"\n",
    "    for item in deletelist:\n",
    "        if os.path.isdir(item):  # 檢查是否為資料夾\n",
    "            try:\n",
    "                shutil.rmtree(item)  # 永久刪除資料夾\n",
    "                print(f\"已永久刪除資料夾： {item}\")\n",
    "            except OSError as e:\n",
    "                print(f\"刪除資料夾 {item} 時發生錯誤： {e}\")\n",
    "        elif os.path.isfile(item):  # 檢查是否為檔案\n",
    "            try:\n",
    "                os.remove(item)  # 永久刪除檔案\n",
    "                print(f\"已永久刪除檔案： {item}\")\n",
    "            except OSError as e:\n",
    "                print(f\"刪除檔案 {item} 時發生錯誤： {e}\")\n",
    "        else:\n",
    "            print(f\"{item} 不是檔案或資料夾。\")\n",
    "\n",
    "def extract_tar_gz(tar_gz_file, extract_path):\n",
    "    try:\n",
    "        with tarfile.open(tar_gz_file, 'r:gz') as tar:\n",
    "            tar.extractall(path=extract_path)\n",
    "    except Exception as e:\n",
    "        print(f\"解壓縮 {tar_gz_file} 失敗：{e}\")\n",
    "\n",
    "def download_and_extract(url, datatype, date, downloadfolder, keep = False):\n",
    "    '''針對高公局交通資料庫的格式進行下載'''\n",
    "    downloadurl = f\"{url}/{datatype}_{date}.tar.gz\"\n",
    "    destfile = os.path.join(downloadfolder, f\"{datatype}_{date}.tar.gz\")\n",
    "\n",
    "    response = requests.get(downloadurl)\n",
    "    with open(destfile, 'wb') as file:\n",
    "        file.write(response.content)\n",
    "\n",
    "    extractpath = create_folder(os.path.join(downloadfolder, date))\n",
    "    extract_tar_gz(destfile, extractpath)\n",
    "    if keep == False:\n",
    "        os.remove(destfile)\n",
    "\n",
    "    return extractpath\n",
    "\n",
    "def findfiles(filefolderpath, filetype='.csv'):\n",
    "    \"\"\"\n",
    "    尋找指定路徑下指定類型的檔案，並返回檔案路徑列表。\n",
    "\n",
    "    Args:\n",
    "        filefolderpath (str): 指定的檔案路徑。\n",
    "        filetype (str, optional): 要尋找的檔案類型，預設為 '.csv'。\n",
    "\n",
    "    Returns:\n",
    "        list: 包含所有符合條件的檔案路徑的列表。\n",
    "    \"\"\"\n",
    "\n",
    "    filelist = []  # 建立一個空列表來儲存檔案路徑\n",
    "\n",
    "    # 使用 os.walk 遍歷資料夾及其子資料夾\n",
    "    for root, _, files in os.walk(filefolderpath):\n",
    "        for file in files:\n",
    "            if file.endswith(filetype):  # 檢查檔案是否以指定類型結尾\n",
    "                file_path = os.path.join(root, file)  # 建立完整的檔案路徑\n",
    "                filelist.append(file_path)  # 將檔案路徑添加到列表中\n",
    "\n",
    "    return filelist\n",
    "\n",
    "def combinefile(filelist, datatype='M03A'):\n",
    "    \"\"\"\n",
    "    更有效率地合併多個CSV檔案。\n",
    "\n",
    "    Args:\n",
    "        filelist (list): 包含CSV檔案路徑的列表。\n",
    "        datatype (str, optional): 資料類型，決定欄位名稱。預設為 'M03A'。\n",
    "\n",
    "    Returns:\n",
    "        pandas.DataFrame: 合併後的DataFrame。\n",
    "    \"\"\"\n",
    "\n",
    "    # 使用字典來映射資料類型和欄位名稱，避免重複的 if/elif 判斷\n",
    "    column_mapping = {\n",
    "        'M03A': ['TimeStamp', 'GantryID', 'Direction', 'VehicleType', 'Volume'],\n",
    "        'M04A': ['TimeStamp', 'GantryFrom', 'GantryTo', 'VehicleType', 'TravelTime', 'Volume'],\n",
    "        'M05A': ['TimeStamp', 'GantryFrom', 'GantryTo', 'VehicleType', 'Speed', 'Volume'],\n",
    "        'M06A': ['VehicleType', 'DetectionTimeO', 'GantryO', 'DetectionTimeD', 'GantryD', 'TripLength', 'TripEnd', 'TripInformation'],\n",
    "        'M07A': ['TimeStamp', 'GantryO', 'VehicleType', 'AverageTripLength', 'Volume'],\n",
    "        'M08A': ['TimeStamp', 'GantryO', 'GantryD', 'VehicleType', 'Trips']\n",
    "    }\n",
    "\n",
    "    columns = column_mapping.get(datatype)  # 使用 get() 方法，如果找不到鍵，會返回 None\n",
    "    if columns is None:\n",
    "        raise ValueError(f\"未知的資料類型：{datatype}\")\n",
    "\n",
    "    combineddf = pd.concat(\n",
    "        (pd.read_csv(i, header=None, names=columns) for i in filelist),  # 使用生成器表達式\n",
    "        ignore_index=True  # 避免重複的索引\n",
    "    )\n",
    "\n",
    "    return combineddf\n",
    "\n",
    "def THI_M03A(df):\n",
    "    df_pivot = df.pivot(index=['TimeStamp', 'GantryID', 'Direction'], columns='VehicleType', values='Volume').reset_index()\n",
    "    df_pivot = df_pivot.rename(columns = {\n",
    "        5 : 'Vol_Trail',\n",
    "        31 : 'Vol_Car',\n",
    "        32 : 'Vol_Truck',\n",
    "        41 : 'Vol_TourBus',\n",
    "        42 : 'Vol_BTruck'\n",
    "    })\n",
    "    df = df.reindex(columns = ['TimeStamp', 'GantryID', 'Direction', 'Vol_Trail', 'Vol_Car', 'Vol_Truck', 'Vol_TourBus', 'Vol_BTruck'])\n",
    "    return df_pivot"
   ]
  },
  {
   "cell_type": "code",
   "execution_count": 3,
   "metadata": {},
   "outputs": [],
   "source": [
    "def THI_process(df, datatype):\n",
    "    if datatype == 'M03A':\n",
    "        df = THI_M03A(df)\n",
    "    return df"
   ]
  },
  {
   "cell_type": "code",
   "execution_count": 4,
   "metadata": {},
   "outputs": [
    {
     "data": {
      "text/plain": [
       "\"\\n待改進\\ndef combinefile(filelist, datatype = 'M03A'):\\n    if datatype == 'M03A':\\n        columns = ['TimeStamp', 'GantryID', 'Direction', 'VehicleType', 'Volume']\\n    elif datatype == 'M04A':\\n        columns = ['TimeStamp', 'GantryFrom', 'GantryTo', 'VehicleType', 'TravelTime', 'Volume']\\n    elif datatype == 'M05A':\\n        columns = ['TimeStamp', 'GantryFrom', 'GantryTo', 'VehicleType', 'Speed', 'Volume']\\n    elif datatype == 'M06A':\\n        columns = ['VehicleType', 'DetectionTimeO', 'GantryO',  'DetectionTimeD', 'GantryD', 'TripLength', 'TripEnd', 'TripInformation']\\n    elif datatype == 'M07A':\\n        columns = ['TimeStamp', 'GantryO', 'VehicleType', 'AverageTripLength', 'Volume']\\n    elif datatype == 'M08A':\\n        columns = ['TimeStamp',\\t'GantryO', 'GantryD', 'VehicleType', 'Trips']\\n    \\n    combineddf = []\\n    for i in filelist:\\n        df = pd.read_csv(i, header=None)\\n        df.columns = columns\\n        combineddf.append(df)\\n    combineddf = pd.concat(combineddf)\\n\\n    return combineddf\\n\""
      ]
     },
     "execution_count": 4,
     "metadata": {},
     "output_type": "execute_result"
    }
   ],
   "source": [
    "'''\n",
    "待改進\n",
    "def combinefile(filelist, datatype = 'M03A'):\n",
    "    if datatype == 'M03A':\n",
    "        columns = ['TimeStamp', 'GantryID', 'Direction', 'VehicleType', 'Volume']\n",
    "    elif datatype == 'M04A':\n",
    "        columns = ['TimeStamp', 'GantryFrom', 'GantryTo', 'VehicleType', 'TravelTime', 'Volume']\n",
    "    elif datatype == 'M05A':\n",
    "        columns = ['TimeStamp', 'GantryFrom', 'GantryTo', 'VehicleType', 'Speed', 'Volume']\n",
    "    elif datatype == 'M06A':\n",
    "        columns = ['VehicleType', 'DetectionTimeO', 'GantryO',  'DetectionTimeD', 'GantryD', 'TripLength', 'TripEnd', 'TripInformation']\n",
    "    elif datatype == 'M07A':\n",
    "        columns = ['TimeStamp', 'GantryO', 'VehicleType', 'AverageTripLength', 'Volume']\n",
    "    elif datatype == 'M08A':\n",
    "        columns = ['TimeStamp',\t'GantryO', 'GantryD', 'VehicleType', 'Trips']\n",
    "    \n",
    "    combineddf = []\n",
    "    for i in filelist:\n",
    "        df = pd.read_csv(i, header=None)\n",
    "        df.columns = columns\n",
    "        combineddf.append(df)\n",
    "    combineddf = pd.concat(combineddf)\n",
    "\n",
    "    return combineddf\n",
    "'''"
   ]
  },
  {
   "cell_type": "markdown",
   "metadata": {},
   "source": [
    "## 需要調整的參數"
   ]
  },
  {
   "cell_type": "code",
   "execution_count": 5,
   "metadata": {},
   "outputs": [],
   "source": [
    "# ===== Step 0: 手動需要調整的參數 =====\n",
    "\n",
    "# 需要調整的項目有2個\n",
    "# 1. 調整需要確認下載的資料型態是什麼\n",
    "datatype = \"M03A\"  # Data type (e.g., M03A, M06A, M05A) \n",
    "\n",
    "# 2. 調整下載的資料區間\n",
    "starttime = \"2024-07-16\"\n",
    "endtime = \"2024-07-19\"\n",
    "datelist = getdatelist(endtime,starttime) # 下載的時間區間清單\n",
    "\n",
    "# 建立後續要處理儲存資料的資料夾位置\n",
    "savelocation = create_folder(os.path.join(os.getcwd(), datatype))\n",
    "rawdatafolder = create_folder(os.path.join(savelocation, '0_rawdata'))\n",
    "mergefolder = create_folder(os.path.join(savelocation, '1_merge'))\n",
    "excelfolder = create_folder(os.path.join(savelocation, '2_excel'))\n",
    "basicurl = \"https://tisvcloud.freeway.gov.tw/history/TDCS/\"\n",
    "url = basicurl + datatype"
   ]
  },
  {
   "cell_type": "code",
   "execution_count": 6,
   "metadata": {},
   "outputs": [],
   "source": [
    "# delete_folders([savelocation])\n",
    "\n",
    "# delete_folders_permanently([savelocation])"
   ]
  },
  {
   "cell_type": "markdown",
   "metadata": {},
   "source": [
    "## 程式執行"
   ]
  },
  {
   "cell_type": "code",
   "execution_count": 7,
   "metadata": {},
   "outputs": [],
   "source": [
    "def main():\n",
    "    for date in datelist :\n",
    "        # 1. 下載並解壓縮\n",
    "        dowloadfilefolder = download_and_extract(url = url, datatype = datatype, date = date, downloadfolder = rawdatafolder)\n",
    "\n",
    "        # 2. 合併\n",
    "        filelist = findfiles(filefolderpath=dowloadfilefolder, filetype='.csv')\n",
    "        df = combinefile(filelist=filelist, datatype=datatype)\n",
    "        # mergeoutputfolder = create_folder(os.path.join(mergefolder, date)) # 建立相同日期的資料夾進行處理\n",
    "        # df.to_csv(os.path.join(mergeoutputfolder, f'{date}.csv') , index = False) # 輸出整併過的csv\n",
    "        delete_folders([dowloadfilefolder]) #回頭刪除解壓縮過的資料\n",
    "\n",
    "        # 3. 處理\n",
    "        df = THI_process(df, datatype=datatype)\n",
    "        df.to_excel(os.path.join(excelfolder, f'{date}.xlsx'), index = False, sheet_name = date)    "
   ]
  },
  {
   "cell_type": "code",
   "execution_count": 8,
   "metadata": {},
   "outputs": [],
   "source": [
    "if __name__ == '__main__':\n",
    "    main()"
   ]
  },
  {
   "cell_type": "code",
   "execution_count": 9,
   "metadata": {},
   "outputs": [],
   "source": [
    "# # 1. 下載並解壓縮\n",
    "# date = datelist[0]\n",
    "# dowloadfilefolder = download_and_extract(url = url, datatype = datatype, date = date, downloadfolder = rawdatafolder)\n",
    "\n",
    "# # 2. 合併\n",
    "# filelist = findfiles(filefolderpath=dowloadfilefolder, filetype='.csv')\n",
    "# df = combinefile(filelist=filelist, datatype=datatype)\n",
    "# mergeoutputfolder = create_folder(os.path.join(mergefolder, date)) # 建立相同日期的資料夾進行處理\n",
    "# df.to_csv(os.path.join(mergeoutputfolder, f'{date}.csv') , index = False) # 輸出整併過的csv\n",
    "# delete_folders([dowloadfilefolder]) #回頭刪除解壓縮過的資料\n",
    "\n",
    "# # 3. 處理\n",
    "# df = M03A_excel(df)\n",
    "# df.to_excel(os.path.join(excelfolder, f'{date}.xlsx'), index = False, sheet_name = date)\n"
   ]
  },
  {
   "cell_type": "code",
   "execution_count": 10,
   "metadata": {},
   "outputs": [],
   "source": [
    "# for date in datelist :\n",
    "#     # 1. 下載並解壓縮\n",
    "#     dowloadfilefolder = download_and_extract(url = url, datatype = datatype, date = date, downloadfolder = rawdatafolder)\n",
    "\n",
    "#     # 2. 合併\n",
    "#     filelist = findfiles(filefolderpath=dowloadfilefolder, filetype='.csv')\n",
    "#     df = combinefile(filelist=filelist, datatype=datatype)\n",
    "#     mergeoutputfolder = create_folder(os.path.join(mergefolder, date)) # 建立相同日期的資料夾進行處理\n",
    "#     df.to_csv(os.path.join(mergeoutputfolder, f'{date}.csv') , index = False) # 輸出整併過的csv\n",
    "#     delete_folders([dowloadfilefolder]) #回頭刪除解壓縮過的資料\n",
    "\n",
    "#     # 3. 處理\n",
    "#     df = excel(df, datatype=datatype)\n",
    "#     df.to_excel(os.path.join(excelfolder, f'{date}.xlsx'), index = False, sheet_name = date)"
   ]
  },
  {
   "cell_type": "code",
   "execution_count": null,
   "metadata": {},
   "outputs": [],
   "source": []
  }
 ],
 "metadata": {
  "kernelspec": {
   "display_name": "Python 3",
   "language": "python",
   "name": "python3"
  },
  "language_info": {
   "codemirror_mode": {
    "name": "ipython",
    "version": 3
   },
   "file_extension": ".py",
   "mimetype": "text/x-python",
   "name": "python",
   "nbconvert_exporter": "python",
   "pygments_lexer": "ipython3",
   "version": "3.9.6"
  }
 },
 "nbformat": 4,
 "nbformat_minor": 2
}
